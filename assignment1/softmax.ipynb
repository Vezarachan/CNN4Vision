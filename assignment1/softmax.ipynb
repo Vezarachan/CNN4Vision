{
 "cells": [
  {
   "cell_type": "markdown",
   "metadata": {
    "tags": [
     "pdf-title"
    ]
   },
   "source": [
    "# Softmax exercise\n",
    "\n",
    "*Complete and hand in this completed worksheet (including its outputs and any supporting code outside of the worksheet) with your assignment submission. For more details see the [assignments page](http://vision.stanford.edu/teaching/cs231n/assignments.html) on the course website.*\n",
    "\n",
    "This exercise is analogous to the SVM exercise. You will:\n",
    "\n",
    "- implement a fully-vectorized **loss function** for the Softmax classifier\n",
    "- implement the fully-vectorized expression for its **analytic gradient**\n",
    "- **check your implementation** with numerical gradient\n",
    "- use a validation set to **tune the learning rate and regularization** strength\n",
    "- **optimize** the loss function with **SGD**\n",
    "- **visualize** the final learned weights\n"
   ]
  },
  {
   "cell_type": "code",
   "execution_count": 1,
   "metadata": {
    "tags": [
     "pdf-ignore"
    ]
   },
   "outputs": [],
   "source": [
    "import random\n",
    "import numpy as np\n",
    "from cs231n.data_utils import load_CIFAR10\n",
    "import matplotlib.pyplot as plt\n",
    "\n",
    "%matplotlib inline\n",
    "plt.rcParams['figure.figsize'] = (10.0, 8.0) # set default size of plots\n",
    "plt.rcParams['image.interpolation'] = 'nearest'\n",
    "plt.rcParams['image.cmap'] = 'gray'\n",
    "\n",
    "# for auto-reloading extenrnal modules\n",
    "# see http://stackoverflow.com/questions/1907993/autoreload-of-modules-in-ipython\n",
    "%load_ext autoreload\n",
    "%autoreload 2"
   ]
  },
  {
   "cell_type": "code",
   "execution_count": 2,
   "metadata": {
    "tags": [
     "pdf-ignore"
    ]
   },
   "outputs": [
    {
     "name": "stdout",
     "output_type": "stream",
     "text": [
      "Train data shape:  (49000, 3073)\n",
      "Train labels shape:  (49000,)\n",
      "Validation data shape:  (1000, 3073)\n",
      "Validation labels shape:  (1000,)\n",
      "Test data shape:  (1000, 3073)\n",
      "Test labels shape:  (1000,)\n",
      "dev data shape:  (500, 3073)\n",
      "dev labels shape:  (500,)\n"
     ]
    }
   ],
   "source": [
    "def get_CIFAR10_data(num_training=49000, num_validation=1000, num_test=1000, num_dev=500):\n",
    "    \"\"\"\n",
    "    Load the CIFAR-10 dataset from disk and perform preprocessing to prepare\n",
    "    it for the linear classifier. These are the same steps as we used for the\n",
    "    SVM, but condensed to a single function.  \n",
    "    \"\"\"\n",
    "    # Load the raw CIFAR-10 data\n",
    "    cifar10_dir = 'cs231n/datasets/cifar-10-batches-py'\n",
    "    \n",
    "    # Cleaning up variables to prevent loading data multiple times (which may cause memory issue)\n",
    "    try:\n",
    "       del X_train, y_train\n",
    "       del X_test, y_test\n",
    "       print('Clear previously loaded data.')\n",
    "    except:\n",
    "       pass\n",
    "\n",
    "    X_train, y_train, X_test, y_test = load_CIFAR10(cifar10_dir)\n",
    "    \n",
    "    # subsample the data\n",
    "    mask = list(range(num_training, num_training + num_validation))\n",
    "    X_val = X_train[mask]\n",
    "    y_val = y_train[mask]\n",
    "    mask = list(range(num_training))\n",
    "    X_train = X_train[mask]\n",
    "    y_train = y_train[mask]\n",
    "    mask = list(range(num_test))\n",
    "    X_test = X_test[mask]\n",
    "    y_test = y_test[mask]\n",
    "    mask = np.random.choice(num_training, num_dev, replace=False)\n",
    "    X_dev = X_train[mask]\n",
    "    y_dev = y_train[mask]\n",
    "    \n",
    "    # Preprocessing: reshape the image data into rows\n",
    "    X_train = np.reshape(X_train, (X_train.shape[0], -1))\n",
    "    X_val = np.reshape(X_val, (X_val.shape[0], -1))\n",
    "    X_test = np.reshape(X_test, (X_test.shape[0], -1))\n",
    "    X_dev = np.reshape(X_dev, (X_dev.shape[0], -1))\n",
    "    \n",
    "    # Normalize the data: subtract the mean image\n",
    "    mean_image = np.mean(X_train, axis = 0)\n",
    "    X_train -= mean_image\n",
    "    X_val -= mean_image\n",
    "    X_test -= mean_image\n",
    "    X_dev -= mean_image\n",
    "    \n",
    "    # add bias dimension and transform into columns\n",
    "    X_train = np.hstack([X_train, np.ones((X_train.shape[0], 1))])\n",
    "    X_val = np.hstack([X_val, np.ones((X_val.shape[0], 1))])\n",
    "    X_test = np.hstack([X_test, np.ones((X_test.shape[0], 1))])\n",
    "    X_dev = np.hstack([X_dev, np.ones((X_dev.shape[0], 1))])\n",
    "    \n",
    "    return X_train, y_train, X_val, y_val, X_test, y_test, X_dev, y_dev\n",
    "\n",
    "\n",
    "# Invoke the above function to get our data.\n",
    "X_train, y_train, X_val, y_val, X_test, y_test, X_dev, y_dev = get_CIFAR10_data()\n",
    "print('Train data shape: ', X_train.shape)\n",
    "print('Train labels shape: ', y_train.shape)\n",
    "print('Validation data shape: ', X_val.shape)\n",
    "print('Validation labels shape: ', y_val.shape)\n",
    "print('Test data shape: ', X_test.shape)\n",
    "print('Test labels shape: ', y_test.shape)\n",
    "print('dev data shape: ', X_dev.shape)\n",
    "print('dev labels shape: ', y_dev.shape)"
   ]
  },
  {
   "cell_type": "markdown",
   "metadata": {},
   "source": [
    "## Softmax Classifier\n",
    "\n",
    "Your code for this section will all be written inside `cs231n/classifiers/softmax.py`.\n"
   ]
  },
  {
   "cell_type": "code",
   "execution_count": 14,
   "metadata": {},
   "outputs": [
    {
     "name": "stdout",
     "output_type": "stream",
     "text": [
      "loss: 2.324436\n",
      "sanity check: 2.302585\n"
     ]
    }
   ],
   "source": [
    "# First implement the naive softmax loss function with nested loops.\n",
    "# Open the file cs231n/classifiers/softmax.py and implement the\n",
    "# softmax_loss_naive function.\n",
    "\n",
    "from cs231n.classifiers.softmax import softmax_loss_naive\n",
    "import time\n",
    "\n",
    "# Generate a random softmax weight matrix and use it to compute the loss.\n",
    "W = np.random.randn(3073, 10) * 0.0001\n",
    "loss, grad = softmax_loss_naive(W, X_dev, y_dev, 0.0)\n",
    "\n",
    "# As a rough sanity check, our loss should be something close to -log(0.1).\n",
    "print('loss: %f' % loss)\n",
    "print('sanity check: %f' % (-np.log(0.1)))"
   ]
  },
  {
   "cell_type": "markdown",
   "metadata": {
    "tags": [
     "pdf-inline"
    ]
   },
   "source": [
    "**Inline Question 1**\n",
    "\n",
    "Why do we expect our loss to be close to -log(0.1)? Explain briefly.**\n",
    "\n",
    "$\\color{blue}{\\textit Your Answer:}$ \n",
    "Because there exists 10 classes in the given dataset and initialization is random, the probability of predicting the correct class is 1/10.\n",
    "$$\n",
    "\\frac{\\exp(W^T_{y_i}x_i)}{\\sum_{j=1}^{10} \\exp(W^T_j x_i)} \\approx \\frac{1}{10}\\\\\n",
    "L=-\\frac{1}{N}\\sum_{i=1}^N \\log\\left(\\frac{\\exp(W^T_{y_i}x_i)}{\\sum_{j=1}^{10} \\exp(W^T_j x_i)}\\right) \\approx -\\frac{1}{N}\\cdot N\\cdot \\log(\\frac{1}{10})=-\\log(0.1)\n",
    "$$ \n",
    "\n"
   ]
  },
  {
   "cell_type": "code",
   "execution_count": 15,
   "metadata": {},
   "outputs": [
    {
     "name": "stdout",
     "output_type": "stream",
     "text": [
      "numerical: -3.634817 analytic: -3.634817, relative error: 1.508368e-08\n",
      "numerical: -2.775051 analytic: -2.775051, relative error: 4.122810e-09\n",
      "numerical: 2.080542 analytic: 2.080542, relative error: 2.681819e-08\n",
      "numerical: -0.367622 analytic: -0.367622, relative error: 1.496305e-07\n",
      "numerical: 0.356166 analytic: 0.356166, relative error: 4.310014e-08\n",
      "numerical: 0.699456 analytic: 0.699456, relative error: 2.750447e-08\n",
      "numerical: -0.317724 analytic: -0.317724, relative error: 6.208747e-08\n",
      "numerical: 0.153149 analytic: 0.153149, relative error: 2.568442e-07\n",
      "numerical: -1.617098 analytic: -1.617098, relative error: 4.863354e-08\n",
      "numerical: 1.346525 analytic: 1.346524, relative error: 6.061897e-08\n",
      "numerical: -7.386010 analytic: -7.374767, relative error: 7.617245e-04\n",
      "numerical: -0.148707 analytic: -0.166046, relative error: 5.508706e-02\n",
      "numerical: 1.365065 analytic: 1.352287, relative error: 4.702270e-03\n",
      "numerical: -5.685528 analytic: -5.690048, relative error: 3.973252e-04\n",
      "numerical: 1.725634 analytic: 1.717823, relative error: 2.268311e-03\n",
      "numerical: 2.374643 analytic: 2.378498, relative error: 8.109873e-04\n",
      "numerical: -0.135061 analytic: -0.144090, relative error: 3.234496e-02\n",
      "numerical: -0.472251 analytic: -0.452307, relative error: 2.157138e-02\n",
      "numerical: -3.935477 analytic: -3.925853, relative error: 1.224226e-03\n",
      "numerical: 0.802607 analytic: 0.808588, relative error: 3.712262e-03\n"
     ]
    }
   ],
   "source": [
    "# Complete the implementation of softmax_loss_naive and implement a (naive)\n",
    "# version of the gradient that uses nested loops.\n",
    "loss, grad = softmax_loss_naive(W, X_dev, y_dev, 0.0)\n",
    "\n",
    "# As we did for the SVM, use numeric gradient checking as a debugging tool.\n",
    "# The numeric gradient should be close to the analytic gradient.\n",
    "from cs231n.gradient_check import grad_check_sparse\n",
    "f = lambda w: softmax_loss_naive(w, X_dev, y_dev, 0.0)[0]\n",
    "grad_numerical = grad_check_sparse(f, W, grad, 10)\n",
    "\n",
    "# similar to SVM case, do another gradient check with regularization\n",
    "loss, grad = softmax_loss_naive(W, X_dev, y_dev, 5e1)\n",
    "f = lambda w: softmax_loss_naive(w, X_dev, y_dev, 5e1)[0]\n",
    "grad_numerical = grad_check_sparse(f, W, grad, 10)"
   ]
  },
  {
   "cell_type": "code",
   "execution_count": 22,
   "metadata": {},
   "outputs": [
    {
     "name": "stdout",
     "output_type": "stream",
     "text": [
      "naive loss: 2.324436e+00 computed in 0.237379s\n",
      "vectorized loss: 2.324436e+00 computed in 0.002067s\n",
      "Loss difference: 0.000000\n",
      "Gradient difference: 0.000000\n"
     ]
    }
   ],
   "source": [
    "# Now that we have a naive implementation of the softmax loss function and its gradient,\n",
    "# implement a vectorized version in softmax_loss_vectorized.\n",
    "# The two versions should compute the same results, but the vectorized version should be\n",
    "# much faster.\n",
    "tic = time.time()\n",
    "loss_naive, grad_naive = softmax_loss_naive(W, X_dev, y_dev, 0.000005)\n",
    "toc = time.time()\n",
    "print('naive loss: %e computed in %fs' % (loss_naive, toc - tic))\n",
    "\n",
    "from cs231n.classifiers.softmax import softmax_loss_vectorized\n",
    "tic = time.time()\n",
    "loss_vectorized, grad_vectorized = softmax_loss_vectorized(W, X_dev, y_dev, 0.000005)\n",
    "toc = time.time()\n",
    "print('vectorized loss: %e computed in %fs' % (loss_vectorized, toc - tic))\n",
    "\n",
    "# As we did for the SVM, we use the Frobenius norm to compare the two versions\n",
    "# of the gradient.\n",
    "grad_difference = np.linalg.norm(grad_naive - grad_vectorized, ord='fro')\n",
    "print('Loss difference: %f' % np.abs(loss_naive - loss_vectorized))\n",
    "print('Gradient difference: %f' % grad_difference)"
   ]
  },
  {
   "cell_type": "code",
   "execution_count": 30,
   "metadata": {
    "id": "tuning",
    "tags": [
     "code"
    ]
   },
   "outputs": [
    {
     "name": "stdout",
     "output_type": "stream",
     "text": [
      "round  1\n",
      "learning_rate:  5e-06  regulartion_strength:  10000.0\n",
      "train_accuracy:  0.2975510204081633  val_accuracy:  0.29\n",
      "-----------------------------------\n",
      "round  2\n",
      "learning_rate:  5e-06  regulartion_strength:  20000.0\n",
      "train_accuracy:  0.20616326530612245  val_accuracy:  0.232\n",
      "-----------------------------------\n",
      "round  3\n",
      "learning_rate:  5e-06  regulartion_strength:  25000.0\n",
      "train_accuracy:  0.1883877551020408  val_accuracy:  0.199\n",
      "-----------------------------------\n",
      "round  4\n",
      "learning_rate:  1e-07  regulartion_strength:  10000.0\n",
      "train_accuracy:  0.3279183673469388  val_accuracy:  0.346\n",
      "-----------------------------------\n",
      "round  5\n",
      "learning_rate:  1e-07  regulartion_strength:  20000.0\n",
      "train_accuracy:  0.3342857142857143  val_accuracy:  0.348\n",
      "-----------------------------------\n",
      "round  6\n",
      "learning_rate:  1e-07  regulartion_strength:  25000.0\n",
      "train_accuracy:  0.32924489795918366  val_accuracy:  0.345\n",
      "-----------------------------------\n",
      "round  7\n",
      "learning_rate:  1.5e-07  regulartion_strength:  10000.0\n",
      "train_accuracy:  0.3543265306122449  val_accuracy:  0.359\n",
      "-----------------------------------\n",
      "round  8\n",
      "learning_rate:  1.5e-07  regulartion_strength:  20000.0\n",
      "train_accuracy:  0.33340816326530615  val_accuracy:  0.347\n",
      "-----------------------------------\n",
      "round  9\n",
      "learning_rate:  1.5e-07  regulartion_strength:  25000.0\n",
      "train_accuracy:  0.32710204081632654  val_accuracy:  0.335\n",
      "-----------------------------------\n",
      "round  10\n",
      "learning_rate:  2e-07  regulartion_strength:  10000.0\n",
      "train_accuracy:  0.3566326530612245  val_accuracy:  0.369\n",
      "-----------------------------------\n",
      "round  11\n",
      "learning_rate:  2e-07  regulartion_strength:  20000.0\n",
      "train_accuracy:  0.33291836734693875  val_accuracy:  0.35\n",
      "-----------------------------------\n",
      "round  12\n",
      "learning_rate:  2e-07  regulartion_strength:  25000.0\n",
      "train_accuracy:  0.3348163265306122  val_accuracy:  0.347\n",
      "-----------------------------------\n",
      "lr 1.000000e-07 reg 1.000000e+04 train accuracy: 0.327918 val accuracy: 0.346000\n",
      "lr 1.000000e-07 reg 2.000000e+04 train accuracy: 0.334286 val accuracy: 0.348000\n",
      "lr 1.000000e-07 reg 2.500000e+04 train accuracy: 0.329245 val accuracy: 0.345000\n",
      "lr 1.500000e-07 reg 1.000000e+04 train accuracy: 0.354327 val accuracy: 0.359000\n",
      "lr 1.500000e-07 reg 2.000000e+04 train accuracy: 0.333408 val accuracy: 0.347000\n",
      "lr 1.500000e-07 reg 2.500000e+04 train accuracy: 0.327102 val accuracy: 0.335000\n",
      "lr 2.000000e-07 reg 1.000000e+04 train accuracy: 0.356633 val accuracy: 0.369000\n",
      "lr 2.000000e-07 reg 2.000000e+04 train accuracy: 0.332918 val accuracy: 0.350000\n",
      "lr 2.000000e-07 reg 2.500000e+04 train accuracy: 0.334816 val accuracy: 0.347000\n",
      "lr 5.000000e-06 reg 1.000000e+04 train accuracy: 0.297551 val accuracy: 0.290000\n",
      "lr 5.000000e-06 reg 2.000000e+04 train accuracy: 0.206163 val accuracy: 0.232000\n",
      "lr 5.000000e-06 reg 2.500000e+04 train accuracy: 0.188388 val accuracy: 0.199000\n",
      "best validation accuracy achieved during cross-validation: 0.369000\n"
     ]
    }
   ],
   "source": [
    "# Use the validation set to tune hyperparameters (regularization strength and\n",
    "# learning rate). You should experiment with different ranges for the learning\n",
    "# rates and regularization strengths; if you are careful you should be able to\n",
    "# get a classification accuracy of over 0.35 on the validation set.\n",
    "\n",
    "from cs231n.classifiers import Softmax\n",
    "results = {}\n",
    "best_val = -1\n",
    "best_softmax = None\n",
    "\n",
    "################################################################################\n",
    "# TODO:                                                                        #\n",
    "# Use the validation set to set the learning rate and regularization strength. #\n",
    "# This should be identical to the validation that you did for the SVM; save    #\n",
    "# the best trained softmax classifer in best_softmax.                          #\n",
    "################################################################################\n",
    "\n",
    "# Provided as a reference. You may or may not want to change these hyperparameters\n",
    "learning_rates = [5e-6, 1e-7, 1.5e-7, 2e-7]\n",
    "regularization_strengths = [1e4, 2e4, 2.5e4]\n",
    "\n",
    "# *****START OF YOUR CODE (DO NOT DELETE/MODIFY THIS LINE)*****\n",
    "i = 1\n",
    "\n",
    "for learning_rate in learning_rates:\n",
    "    for reg_strength in regularization_strengths:\n",
    "        softmax = Softmax()\n",
    "        softmax.train(X_train, y_train, learning_rate=learning_rate, reg=reg_strength,\n",
    "                      num_iters=1000, verbose=False)\n",
    "        y_train_pred = softmax.predict(X_train)\n",
    "        y_val_pred = softmax.predict(X_val)\n",
    "        train_accuracy = np.mean(y_train == y_train_pred)\n",
    "        val_accuracy = np.mean(y_val == y_val_pred)\n",
    "        results[(learning_rate, reg_strength)] = (train_accuracy, val_accuracy)\n",
    "        if val_accuracy > best_val:\n",
    "            best_val = val_accuracy\n",
    "            best_softmax = softmax\n",
    "        print('round ', i)\n",
    "        print('learning_rate: ', learning_rate, ' regulartion_strength: ', reg_strength)\n",
    "        print('train_accuracy: ', train_accuracy, ' val_accuracy: ', val_accuracy)\n",
    "        print('-----------------------------------')\n",
    "        i += 1\n",
    "\n",
    "# *****END OF YOUR CODE (DO NOT DELETE/MODIFY THIS LINE)*****\n",
    "    \n",
    "# Print out results.\n",
    "for lr, reg in sorted(results):\n",
    "    train_accuracy, val_accuracy = results[(lr, reg)]\n",
    "    print('lr %e reg %e train accuracy: %f val accuracy: %f' % (\n",
    "                lr, reg, train_accuracy, val_accuracy))\n",
    "    \n",
    "print('best validation accuracy achieved during cross-validation: %f' % best_val)"
   ]
  },
  {
   "cell_type": "code",
   "execution_count": 31,
   "metadata": {
    "id": "test"
   },
   "outputs": [
    {
     "name": "stdout",
     "output_type": "stream",
     "text": [
      "softmax on raw pixels final test set accuracy: 0.363000\n"
     ]
    }
   ],
   "source": [
    "# evaluate on test set\n",
    "# Evaluate the best softmax on test set\n",
    "y_test_pred = best_softmax.predict(X_test)\n",
    "test_accuracy = np.mean(y_test == y_test_pred)\n",
    "print('softmax on raw pixels final test set accuracy: %f' % (test_accuracy, ))"
   ]
  },
  {
   "cell_type": "markdown",
   "metadata": {
    "tags": [
     "pdf-inline"
    ]
   },
   "source": [
    "**Inline Question 2** - *True or False*\n",
    "\n",
    "Suppose the overall training loss is defined as the sum of the per-datapoint loss over all training examples. It is possible to add a new datapoint to a training set that would leave the SVM loss unchanged, but this is not the case with the Softmax classifier loss.\n",
    "\n",
    "$\\color{blue}{\\textit Your Answer:}$ False\n",
    "\n",
    "\n",
    "$\\color{blue}{\\textit Your Explanation:}$ Assume that the previous loss is -log(0.1). If the loss of the new data point is -log(0.1) then the new overall loss of Softmax is still -log(0.1).\n",
    "\n"
   ]
  },
  {
   "cell_type": "code",
   "execution_count": 32,
   "metadata": {},
   "outputs": [
    {
     "data": {
      "image/png": "[encoded data removed]",
      "text/plain": [
       "<Figure size 432x288 with 10 Axes>"
      ]
     },
     "metadata": {
      "needs_background": "light"
     },
     "output_type": "display_data"
    }
   ],
   "source": [
    "# Visualize the learned weights for each class\n",
    "w = best_softmax.W[:-1,:] # strip out the bias\n",
    "w = w.reshape(32, 32, 3, 10)\n",
    "\n",
    "w_min, w_max = np.min(w), np.max(w)\n",
    "\n",
    "classes = ['plane', 'car', 'bird', 'cat', 'deer', 'dog', 'frog', 'horse', 'ship', 'truck']\n",
    "for i in range(10):\n",
    "    plt.subplot(2, 5, i + 1)\n",
    "    \n",
    "    # Rescale the weights to be between 0 and 255\n",
    "    wimg = 255.0 * (w[:, :, :, i].squeeze() - w_min) / (w_max - w_min)\n",
    "    plt.imshow(wimg.astype('uint8'))\n",
    "    plt.axis('off')\n",
    "    plt.title(classes[i])"
   ]
  }
 ],
 "metadata": {
  "kernelspec": {
   "display_name": "Python 3",
   "language": "python",
   "name": "python3"
  },
  "language_info": {
   "codemirror_mode": {
    "name": "ipython",
    "version": 3
   },
   "file_extension": ".py",
   "mimetype": "text/x-python",
   "name": "python",
   "nbconvert_exporter": "python",
   "pygments_lexer": "ipython3",
   "version": "3.8.8"
  }
 },
 "nbformat": 4,
 "nbformat_minor": 4
}
